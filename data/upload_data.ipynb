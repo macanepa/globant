{
 "cells": [
  {
   "cell_type": "code",
   "execution_count": 1,
   "metadata": {},
   "outputs": [],
   "source": [
    "import pandas as pd\n",
    "import awswrangler as wr\n",
    "from boto3 import Session"
   ]
  },
  {
   "cell_type": "code",
   "execution_count": 2,
   "metadata": {},
   "outputs": [],
   "source": [
    "session = Session(profile_name='globant')\n",
    "con = wr.mysql.connect(\"globant_connection\", boto3_session=session)\n",
    "schema = 'globant'"
   ]
  },
  {
   "cell_type": "code",
   "execution_count": 3,
   "metadata": {},
   "outputs": [],
   "source": [
    "def upload_data(df: pd.DataFrame, schema: str, table_name:str):\n",
    "    df_with_nan = df[df.isnull().any(axis=1)]\n",
    "    count_error_records = df_with_nan.shape[0]\n",
    "    df = df.dropna()\n",
    "    count_success_records = df.shape[0]\n",
    "\n",
    "    wr.mysql.to_sql(\n",
    "        df=df,\n",
    "        table=table_name,\n",
    "        schema=schema,\n",
    "        con=con,\n",
    "        mode=\"overwrite\"\n",
    "    )\n",
    "\n",
    "    cursor = con.cursor()\n",
    "    sql = f\"ALTER TABLE {schema}.{table_name} MODIFY id INT PRIMARY KEY\"\n",
    "    cursor.execute(sql)\n",
    "    con.commit()\n",
    "\n",
    "    return {\n",
    "        'records_error': count_error_records,\n",
    "        'records_success': count_success_records,\n",
    "    }"
   ]
  },
  {
   "cell_type": "code",
   "execution_count": 4,
   "metadata": {},
   "outputs": [
    {
     "data": {
      "text/plain": [
       "{'records_error': 0, 'records_success': 12}"
      ]
     },
     "execution_count": 4,
     "metadata": {},
     "output_type": "execute_result"
    }
   ],
   "source": [
    "table_name = 'departments'\n",
    "file_path = f'./{table_name}.csv'\n",
    "\n",
    "df = pd.read_csv(file_path, header=None)\n",
    "df.columns = ['id', 'department']\n",
    "\n",
    "upload_data(\n",
    "    df=df,\n",
    "    schema='globant',\n",
    "    table_name=table_name\n",
    ")"
   ]
  },
  {
   "cell_type": "code",
   "execution_count": 5,
   "metadata": {},
   "outputs": [
    {
     "data": {
      "text/plain": [
       "{'records_error': 0, 'records_success': 183}"
      ]
     },
     "execution_count": 5,
     "metadata": {},
     "output_type": "execute_result"
    }
   ],
   "source": [
    "table_name = 'jobs'\n",
    "file_path = f'./{table_name}.csv'\n",
    "\n",
    "# Assuming the first row contains headers\n",
    "df = pd.read_csv(file_path, header=None)\n",
    "\n",
    "# If you want to explicitly set column names, you can do it after reading the CSV\n",
    "df.columns = ['id', 'job']\n",
    "\n",
    "upload_data(\n",
    "    df=df,\n",
    "    schema='globant',\n",
    "    table_name=table_name\n",
    ")"
   ]
  },
  {
   "cell_type": "code",
   "execution_count": 6,
   "metadata": {},
   "outputs": [
    {
     "data": {
      "text/plain": [
       "{'records_error': 70, 'records_success': 1929}"
      ]
     },
     "execution_count": 6,
     "metadata": {},
     "output_type": "execute_result"
    }
   ],
   "source": [
    "table_name = 'hired_employees'\n",
    "file_path = f'./{table_name}.csv'\n",
    "\n",
    "df = pd.read_csv(file_path, header=None)\n",
    "df.columns = ['id', 'name', 'datetime', 'department_id', 'job_id']\n",
    "\n",
    "df['department_id'] = df['department_id'].astype('Int64')\n",
    "df['job_id'] = df['job_id'].astype('Int64')\n",
    "df['job_id'] = df['job_id'].astype('Int64')\n",
    "df['datetime'] = pd.to_datetime(df['datetime'])\n",
    "\n",
    "upload_data(\n",
    "    df=df,\n",
    "    schema='globant',\n",
    "    table_name=table_name\n",
    ")"
   ]
  }
 ],
 "metadata": {
  "kernelspec": {
   "display_name": "cbr-processing",
   "language": "python",
   "name": "python3"
  },
  "language_info": {
   "codemirror_mode": {
    "name": "ipython",
    "version": 3
   },
   "file_extension": ".py",
   "mimetype": "text/x-python",
   "name": "python",
   "nbconvert_exporter": "python",
   "pygments_lexer": "ipython3",
   "version": "3.11.4"
  }
 },
 "nbformat": 4,
 "nbformat_minor": 2
}
